{
 "cells": [
  {
   "cell_type": "code",
   "execution_count": 2,
   "metadata": {
    "collapsed": true
   },
   "outputs": [],
   "source": [
    "%matplotlib inline\n",
    "import pycamhd as camhd\n",
    "import numpy as np\n",
    "import matplotlib.pyplot as plt"
   ]
  },
  {
   "cell_type": "code",
   "execution_count": null,
   "metadata": {},
   "outputs": [],
   "source": [
    "help(camhd)\n",
    "help(requests)"
   ]
  },
  {
   "cell_type": "code",
   "execution_count": null,
   "metadata": {
    "collapsed": true
   },
   "outputs": [],
   "source": [
    "import requests\n",
    "import csv\n",
    "scene_log_url = 'https://raw.githubusercontent.com/ooi-data-review/camhd_metadata/master/scene_timing/zoom0_scenes.csv'\n",
    "scene_log_page = requests.get(scene_log_url)\n",
    "scene_log_content = scene_log_page.content.decode('utf-8')\n",
    "scene_log_csv = csv.reader(scene_log_content.splitlines(), delimiter=',')\n",
    "scene_log = list(scene_log_csv)"
   ]
  },
  {
   "cell_type": "code",
   "execution_count": null,
   "metadata": {
    "collapsed": true
   },
   "outputs": [],
   "source": [
    "import glob\n",
    "filenames = glob.glob('/data/*.mov')"
   ]
  },
  {
   "cell_type": "code",
   "execution_count": null,
   "metadata": {
    "collapsed": true
   },
   "outputs": [],
   "source": [
    "frame_numbers = []\n",
    "for filename in filenames:\n",
    "    for row in scene_log:\n",
    "        if filename[6:32] in row[0]:\n",
    "            file_exists = True;\n",
    "            next_frame_time = row[9].split(':') # this is the seventh scene showing a bacterial mat at the base of Mushroom\n",
    "            if len(next_frame_time)==3:\n",
    "                frame_time = next_frame_time\n",
    "    if file_exists:\n",
    "        frame_numbers.append(int(round((int(frame_time[1])*60+int(frame_time[2]))*29.95))+60)\n",
    "    else:\n",
    "        frame_numbers.append(99999)\n",
    "    file_exists = False"
   ]
  },
  {
   "cell_type": "code",
   "execution_count": null,
   "metadata": {
    "collapsed": true
   },
   "outputs": [],
   "source": [
    "plt.rc('figure', figsize=(8, 8))\n",
    "frame = camhd.get_frame(filenames[0], frame_numbers[0], 'rgb24')\n",
    "imgplot = plt.imshow(frame)"
   ]
  },
  {
   "cell_type": "code",
   "execution_count": null,
   "metadata": {
    "collapsed": true
   },
   "outputs": [],
   "source": [
    "from numpngw import write_png\n",
    "from scipy.misc import imresize\n",
    "write_png('time_lapse.png', imresize(frame, (270, 480)))"
   ]
  },
  {
   "cell_type": "code",
   "execution_count": null,
   "metadata": {
    "collapsed": true
   },
   "outputs": [],
   "source": [
    "%%time\n",
    "import subprocess as sp\n",
    "command = [ 'ffmpeg',\n",
    "           '-y', #overwrite output file if it exists\n",
    "           '-f', 'rawvideo',\n",
    "           '-vcodec','rawvideo',\n",
    "           '-s', '1920x1080', # size of input frame\n",
    "           '-pix_fmt', 'rgb24',\n",
    "           '-r', '30', # output frame rate\n",
    "           '-i', '-', # input from pipe\n",
    "           '-an', # no audio\n",
    "           '-vf', 'scale=480x270',\n",
    "           '-c:v', 'h264',\n",
    "           '-preset', 'veryfast',\n",
    "           '-crf', '18',\n",
    "           '-pix_fmt', 'yuv420p',\n",
    "           'time_lapse.mp4' ]\n",
    "\n",
    "pipe = sp.Popen(command, stdin=sp.PIPE, stderr=sp.PIPE)\n",
    "\n",
    "for i, filename in enumerate(filenames):\n",
    "    if frame_numbers[i] != 99999:\n",
    "        frame = camhd.get_frame(filename, frame_numbers[i], 'rgb24')\n",
    "        pipe.stdin.write(frame.tostring())\n",
    "\n",
    "pipe.stdin.flush() # Ensure nothing is left in the buffer\n",
    "pipe.terminate()"
   ]
  },
  {
   "cell_type": "code",
   "execution_count": null,
   "metadata": {
    "collapsed": true
   },
   "outputs": [],
   "source": [
    "%%HTML\n",
    "<video width=\"480\" height=\"270\" controls poster=\"test.png\">\n",
    "  <source src=\"time_lapse.mp4\" type=\"video/mp4\">\n",
    "</video>"
   ]
  },
  {
   "cell_type": "code",
   "execution_count": null,
   "metadata": {
    "collapsed": true
   },
   "outputs": [],
   "source": []
  }
 ],
 "metadata": {
  "kernelspec": {
   "display_name": "PyCamHD",
   "language": "python",
   "name": "pycamhd"
  },
  "language_info": {
   "codemirror_mode": {
    "name": "ipython",
    "version": 2
   },
   "file_extension": ".py",
   "mimetype": "text/x-python",
   "name": "python",
   "nbconvert_exporter": "python",
   "pygments_lexer": "ipython2",
   "version": "2.7.13"
  }
 },
 "nbformat": 4,
 "nbformat_minor": 2
}
